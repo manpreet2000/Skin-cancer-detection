{
 "cells": [
  {
   "cell_type": "code",
   "execution_count": 46,
   "metadata": {},
   "outputs": [],
   "source": [
    "import torch\n",
    "import torch.nn as nn\n",
    "import numpy as np\n",
    "import pandas as pd\n",
    "from torch.nn import functional as F\n",
    "from torchvision import models\n",
    "from wtfml.engine import Engine\n",
    "import albumentations\n",
    "from sklearn import metrics\n",
    "\n",
    "#from apex import amp"
   ]
  },
  {
   "cell_type": "code",
   "execution_count": 34,
   "metadata": {
    "scrolled": true
   },
   "outputs": [
    {
     "name": "stderr",
     "output_type": "stream",
     "text": [
      "Downloading: \"https://download.pytorch.org/models/resnext50_32x4d-7cdf4587.pth\" to /home/manpreet/.cache/torch/checkpoints/resnext50_32x4d-7cdf4587.pth\n",
      "100.0%\n"
     ]
    }
   ],
   "source": [
    "model=models.resnext50_32x4d(pretrained=True)\n",
    "for p in model.parameters():\n",
    "    p.requires_grad=False\n",
    "model.fc=nn.Sequential(nn.Linear(2048,1))"
   ]
  },
  {
   "cell_type": "code",
   "execution_count": 38,
   "metadata": {},
   "outputs": [],
   "source": [
    "class ClassificationLoader:\n",
    "    def __init__(self, image_paths, targets, resize, augmentations=None):\n",
    "        self.image_paths = image_paths\n",
    "        self.targets = targets\n",
    "        self.resize = resize\n",
    "        self.augmentations = augmentations\n",
    "\n",
    "    def __len__(self):\n",
    "        return len(self.image_paths)\n",
    "\n",
    "    def __getitem__(self, item):\n",
    "        image = Image.open(self.image_paths[item])\n",
    "        targets = self.targets[item]\n",
    "        if self.resize is not None:\n",
    "            image = image.resize(\n",
    "                (self.resize[1], self.resize[0]), resample=Image.BILINEAR\n",
    "            )\n",
    "        image = np.array(image)\n",
    "        if self.augmentations is not None:\n",
    "            augmented = self.augmentations(image=image)\n",
    "            image = augmented[\"image\"]\n",
    "        image = np.transpose(image, (2, 0, 1)).astype(np.float32)\n",
    "        return {\n",
    "            \"image\": torch.tensor(image, dtype=torch.float),\n",
    "            \"targets\": torch.tensor(targets, dtype=torch.long),\n",
    "        }\n"
   ]
  },
  {
   "cell_type": "code",
   "execution_count": 31,
   "metadata": {},
   "outputs": [],
   "source": [
    "def train(folds):\n",
    "    training_path=\"data/jpeg/train224/\"\n",
    "    df=pd.read_csv(\"data/train_folds.csv\")\n",
    "    device=\"cpu\"\n",
    "    train_bs=32\n",
    "    valid_bs=16\n",
    "    epochs=50\n",
    "    mean=(0.485,0.456,0.406)\n",
    "    std=(0.229,0.224,0.224)\n",
    "    df_train=df[df.kfold!=folds].reset_index(drop=True)\n",
    "    df_valid=df[df.kfold==folds].reset_index(drop=True)\n",
    "    train_aug=albumentations.Compose([\n",
    "        albumentations.Normalize(mean,std,max_pixel_value=255.0,always_apply=True),\n",
    "    ])\n",
    "    valid_aug=albumentations.Compose([\n",
    "        albumentations.Normalize(mean,std,max_pixel_value=255.0,always_apply=True),\n",
    "    ])\n",
    "    \n",
    "    train_images=df_train.image_name.values.tolist()\n",
    "    train_images=[os.path.join(training_path,i+\".jpg\")for i in train_images]\n",
    "    train_targets=df_train.target.values\n",
    "    \n",
    "    valid_images=df_valid.image_name.values.tolist()\n",
    "    valid_images=[os.path.join(training_path,i+\".jpg\")for i in valid_images]\n",
    "    valid_targets=df_valid.target.values\n",
    "    \n",
    "    train_dataset=ClassificationLoader(\n",
    "    image_paths=train_images,\n",
    "    targets=train_targets,\n",
    "    resize=False,\n",
    "    augmentations=train_aug)\n",
    "    \n",
    "    train_dataloader=torch.utils.data.DataLoader(\n",
    "        dataset=train_dataset,\n",
    "        batch_size=train_bs,\n",
    "        shuffle=True,\n",
    "        num_workers=4\n",
    "    )\n",
    "    \n",
    "    valid_dataset=ClassificationLoader(\n",
    "    image_paths=valid_images,\n",
    "    targets=valid_targets,\n",
    "    resize=False,\n",
    "    augmentations=valid_aug )\n",
    "    \n",
    "    \n",
    "    \n",
    "    valid_dataloader=torch.utils.data.DataLoader(\n",
    "        dataset=valid_dataset,\n",
    "        batch_size=valid_bs ,\n",
    "        shuffle=False,\n",
    "        num_workers=4\n",
    "    )\n",
    "    model.to(device)\n",
    "    \n",
    "    optimizer=torch.optim.Adam(model.parameters(),lr=1e-4)\n",
    "    schedular=torch.optim.lr_scheduler.ReduceLROnPlateau(\n",
    "    optimizer,patience=3,mode=\"max\"\n",
    "    )\n",
    "    if device==\"cuda\":\n",
    "        model,optimizer=amp.initialize(model,\n",
    "                                      optimizer,\n",
    "                                      opt_level=\"01\",\n",
    "                                      verbosity=0\n",
    "                                      )\n",
    "    for epoch in range(epochs):\n",
    "        trainingloss=Engine.train(train_dataloader,model,optimizer,device)\n",
    "        predictions, valid_loss=Engine.evaluate(valid_dataloader,model,optimizer,device)\n",
    "        predictions=np.vstack((predictions)).ravel()\n",
    "        auc=metrics.roc_auc_score(valid_targets,predictions)\n",
    "        schedular.step(auc)\n",
    "        print(\"epoch -{}, auc-{}\".format(epoch,auc))\n",
    "    "
   ]
  },
  {
   "cell_type": "code",
   "execution_count": null,
   "metadata": {},
   "outputs": [],
   "source": []
  }
 ],
 "metadata": {
  "kernelspec": {
   "display_name": "Python 3",
   "language": "python",
   "name": "python3"
  },
  "language_info": {
   "codemirror_mode": {
    "name": "ipython",
    "version": 3
   },
   "file_extension": ".py",
   "mimetype": "text/x-python",
   "name": "python",
   "nbconvert_exporter": "python",
   "pygments_lexer": "ipython3",
   "version": "3.8.2"
  }
 },
 "nbformat": 4,
 "nbformat_minor": 4
}
